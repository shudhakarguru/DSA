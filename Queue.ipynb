{
 "cells": [
  {
   "cell_type": "code",
   "execution_count": 12,
   "id": "abc7e98d",
   "metadata": {},
   "outputs": [],
   "source": [
    "class Queue:\n",
    "    def __init__(self):\n",
    "        self.items = []\n",
    "        \n",
    "    def __str__(self):\n",
    "        values = [str(x) for x in self.items]\n",
    "        return ' '.join(values)\n",
    "        \n",
    "    def isempty(self):\n",
    "        if self.items == []:\n",
    "            return True\n",
    "        else:\n",
    "            return False\n",
    "        \n",
    "    def enqueue(self,data):\n",
    "        self.items.append(data)\n",
    "        return 'element is inserted'\n",
    "    \n",
    "    def dequeue(self):\n",
    "        if self.items == []:\n",
    "            return 'Queue is empty'\n",
    "        else:\n",
    "            return self.items.pop(0)\n",
    "            \n",
    "    def peek(self):\n",
    "        if self.items == []:\n",
    "            return 'Queue is empty'\n",
    "        else:\n",
    "            return self.items[0]\n",
    "            \n",
    "        \n",
    "    def delete(self):\n",
    "        self.items = None"
   ]
  },
  {
   "cell_type": "code",
   "execution_count": 13,
   "id": "ef9b769c",
   "metadata": {},
   "outputs": [
    {
     "name": "stdout",
     "output_type": "stream",
     "text": [
      "20\n"
     ]
    }
   ],
   "source": [
    "cq = Queue()\n",
    "cq.enqueue(10)\n",
    "cq.enqueue(20)\n",
    "cq.dequeue()\n",
    "print(cq)"
   ]
  },
  {
   "cell_type": "code",
   "execution_count": 34,
   "id": "146efc56",
   "metadata": {},
   "outputs": [],
   "source": [
    "#Circular Queue\n",
    "\n",
    "class Queue:\n",
    "    def __init__(self,size):\n",
    "        self.items = size*[None]\n",
    "        self.size = size\n",
    "        self.start = -1\n",
    "        self.top = -1\n",
    "        \n",
    "    def __str__(self):\n",
    "        values = [str(x) for x in self.items]\n",
    "        return ' '.join(values)\n",
    "    \n",
    "    def isFull(self):\n",
    "        if self.top +1 == self.start:\n",
    "            return True\n",
    "        elif self.start == 0 and self.top+1 == self.size:\n",
    "            return True\n",
    "        else:\n",
    "            return False\n",
    "    \n",
    "    def isempty(self):\n",
    "        if self.top == -1:\n",
    "            return True\n",
    "        else:\n",
    "            return False\n",
    "        \n",
    "    def enqueue(self,data):\n",
    "        if self.isFull():\n",
    "            return 'Queue is full'\n",
    "        else:\n",
    "            if self.top+1 == self.size:\n",
    "                self.top = 0\n",
    "            else:\n",
    "                self.top += 1\n",
    "                if self.start == -1:\n",
    "                    self.start = 0\n",
    "            self.items[self.top] = data\n",
    "            return \"Element is inserted\"\n",
    "        \n",
    "    def dequeue(self):\n",
    "        if self.isempty():\n",
    "            return \"Queue is empty\"\n",
    "        else:\n",
    "            first = self.items[self.start]\n",
    "            start = self.start\n",
    "            if self.start == self.top:\n",
    "                self.start = -1\n",
    "                self.start = -1\n",
    "            elif self.start +1 == self.size:\n",
    "                self.start = 0\n",
    "            else:\n",
    "                self.start+= 1\n",
    "            self.items[start] = None\n",
    "            return first\n",
    "            \n",
    "    def peek(self):\n",
    "        if self.isempty():\n",
    "            return 'Empty Queue'\n",
    "        else:\n",
    "            return self.items[self.start]"
   ]
  },
  {
   "cell_type": "code",
   "execution_count": 36,
   "id": "bacddf90",
   "metadata": {},
   "outputs": [
    {
     "data": {
      "text/plain": [
       "20"
      ]
     },
     "execution_count": 36,
     "metadata": {},
     "output_type": "execute_result"
    }
   ],
   "source": [
    "cq = Queue(3)\n",
    "cq.enqueue(10)\n",
    "cq.enqueue(20)\n",
    "cq.enqueue(28)\n",
    "cq.dequeue()\n",
    "cq.peek()"
   ]
  },
  {
   "cell_type": "code",
   "execution_count": 87,
   "id": "69778f68",
   "metadata": {},
   "outputs": [],
   "source": [
    "# Queue using linked list\n",
    "\n",
    "class Node:\n",
    "    def __init__(self,data=None):\n",
    "        self.data = data\n",
    "        self.ref = None\n",
    "        \n",
    "    def __str__(self):\n",
    "        return str(self.data)\n",
    "\n",
    "        \n",
    "class linkedlist:\n",
    "    def __init__(self):\n",
    "        self.head = None\n",
    "        \n",
    "    \n",
    "        \n",
    "    \n",
    "    \n",
    "        \n",
    "class queue:\n",
    "    def __init__(self):\n",
    "        self.linkedlist = linkedlist()\n",
    "        \n",
    "    def __str__(self):\n",
    "        values = [str(x) for x in self.linkedlist]\n",
    "        return ' '.join(values)\n",
    "    \n",
    "    def print(self):\n",
    "        if self.linkedlist.head is None:\n",
    "            print('Queue is empty')\n",
    "        else:\n",
    "            n=self.linkedlist.head\n",
    "            while n is not None:\n",
    "                print(n.data,'-->',end=' ')\n",
    "                n=n.ref\n",
    "    \n",
    "    def enqueue(self,value):\n",
    "        newnode = Node(value)\n",
    "        if self.linkedlist.head is None:\n",
    "            self.linkedlist.head = newnode\n",
    "        else:\n",
    "            n = self.linkedlist.head\n",
    "            while n.ref is not None:\n",
    "                n=n.ref\n",
    "            n.ref = newnode\n",
    "    \n",
    "    def dequeue(self):\n",
    "        if self.linkedlist.head is None:\n",
    "            return 'queue is empty'\n",
    "        else:\n",
    "            self.linkedlist.head = self.linkedlist.head.ref\n",
    "        \n",
    "            \n",
    "            \n",
    "    def delete(self):\n",
    "        self.linkedlist.head = None\n",
    "        "
   ]
  },
  {
   "cell_type": "code",
   "execution_count": 89,
   "id": "8226dfca",
   "metadata": {},
   "outputs": [
    {
     "name": "stdout",
     "output_type": "stream",
     "text": [
      "10 --> 20 --> 22 --> "
     ]
    }
   ],
   "source": [
    "cq = queue()\n",
    "cq.enqueue(10)\n",
    "cq.enqueue(20)\n",
    "cq.enqueue(22)\n",
    "\n",
    "cq.print()"
   ]
  },
  {
   "cell_type": "code",
   "execution_count": 1,
   "id": "e5f39b96",
   "metadata": {},
   "outputs": [
    {
     "name": "stdout",
     "output_type": "stream",
     "text": [
      "deque([2, 3], maxlen=3)\n"
     ]
    }
   ],
   "source": [
    "# Collection module\n",
    "\n",
    "from collections import deque\n",
    "\n",
    "cq = deque(maxlen=3)\n",
    "\n",
    "\n",
    "cq.append(1)\n",
    "cq.append(2)\n",
    "cq.append(3)\n",
    "cq.popleft()\n",
    "print(cq)"
   ]
  },
  {
   "cell_type": "code",
   "execution_count": 7,
   "id": "73832ee5",
   "metadata": {},
   "outputs": [
    {
     "name": "stdout",
     "output_type": "stream",
     "text": [
      "1\n"
     ]
    }
   ],
   "source": [
    "# Queue Module\n",
    "import queue as q\n",
    "\n",
    "cq = q.Queue(maxsize=3)\n",
    "cq.put(1)\n",
    "cq.put(2)\n",
    "cq.put(3)\n",
    "cq.get(3)\n",
    "cq.get(1)\n",
    "cq.\n",
    "print(cq.qsize())"
   ]
  },
  {
   "cell_type": "code",
   "execution_count": 6,
   "id": "e0aa30ec",
   "metadata": {},
   "outputs": [
    {
     "name": "stdout",
     "output_type": "stream",
     "text": [
      "1\n"
     ]
    }
   ],
   "source": [
    "# Multiprocessing module\n",
    "\n",
    "from multiprocessing import Queue\n",
    "\n",
    "cq = Queue(maxsize=3)\n",
    "cq.put(1)\n",
    "cq.put(2)\n",
    "cq.put(3)\n",
    "print(cq.get())"
   ]
  },
  {
   "cell_type": "code",
   "execution_count": null,
   "id": "11e8611b",
   "metadata": {},
   "outputs": [],
   "source": []
  }
 ],
 "metadata": {
  "kernelspec": {
   "display_name": "Python 3 (ipykernel)",
   "language": "python",
   "name": "python3"
  },
  "language_info": {
   "codemirror_mode": {
    "name": "ipython",
    "version": 3
   },
   "file_extension": ".py",
   "mimetype": "text/x-python",
   "name": "python",
   "nbconvert_exporter": "python",
   "pygments_lexer": "ipython3",
   "version": "3.9.12"
  }
 },
 "nbformat": 4,
 "nbformat_minor": 5
}
