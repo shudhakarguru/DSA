{
 "cells": [
  {
   "cell_type": "code",
   "execution_count": 3,
   "id": "46c7339f",
   "metadata": {},
   "outputs": [
    {
     "name": "stdout",
     "output_type": "stream",
     "text": [
      "How many temerature 5\n",
      "Enter the temerature of 1th day 7\n",
      "Enter the temerature of 2th day 89\n",
      "Enter the temerature of 3th day 3\n",
      "Enter the temerature of 4th day 6\n",
      "Enter the temerature of 5th day 8\n",
      "Average temperature is: 22.6\n",
      "1days above the average temerature\n"
     ]
    }
   ],
   "source": [
    "# AVERAGE TEMP\n",
    "\n",
    "days=int(input('How many temerature '))\n",
    "all_temp=[]\n",
    "c=0\n",
    "for i in range(days):\n",
    "    temp=int(input(f'Enter the temerature of {i+1}th day '))\n",
    "    all_temp.append(temp)\n",
    "avg = sum(all_temp)/days\n",
    "print(f'Average temperature is: {avg}')\n",
    "for j in all_temp:\n",
    "    if j>avg:\n",
    "        c=c+1\n",
    "print(str(c)+\" days above the average temerature\")"
   ]
  },
  {
   "cell_type": "code",
   "execution_count": 5,
   "id": "caa1abeb",
   "metadata": {},
   "outputs": [],
   "source": [
    "#MISSING NUMBER\n",
    "\n",
    "def findmissingNo(mylist,n):\n",
    "    theo_sum=n*(n+1)/2\n",
    "    actual_sum=sum(mylist)\n",
    "    print(missing_no = theo_sum - actual_sum)\n"
   ]
  },
  {
   "cell_type": "code",
   "execution_count": 7,
   "id": "c06ccbe7",
   "metadata": {},
   "outputs": [],
   "source": [
    "#Two sum\n",
    "\n",
    "def twosum(mylist,k):\n",
    "    for i in range(len(mylist)):\n",
    "        for j in range(i+1,len(mylist)):\n",
    "            if mylist[i]+mylist[j]==k and mylist[i]!=mylist[j]:\n",
    "                print(mylist[i],mylist[j])"
   ]
  },
  {
   "cell_type": "code",
   "execution_count": 11,
   "id": "182d5e54",
   "metadata": {},
   "outputs": [],
   "source": [
    "# max product of two int\n",
    "\n",
    "def maxproduct(mylist):\n",
    "    st_max=max(mylist)\n",
    "    mylist.remove(st_max)\n",
    "    nd_max=max(mylist)\n",
    "    print(st_max*nd_max)\n",
    "    \n",
    "# 2nd method\n",
    "\n",
    "def maxproduct2(mylist):\n",
    "    max_product=0\n",
    "    for i in range(len(mylist)):\n",
    "        for j in range(i+1,len(mylist)):\n",
    "            if mylist[i]*mylist[j]>max_product:\n",
    "                max_product = mylist[i]*mylist[j]\n",
    "    print(max_product)\n",
    "    "
   ]
  },
  {
   "cell_type": "code",
   "execution_count": 14,
   "id": "82c3d2fd",
   "metadata": {},
   "outputs": [
    {
     "data": {
      "text/plain": [
       "True"
      ]
     },
     "execution_count": 14,
     "metadata": {},
     "output_type": "execute_result"
    }
   ],
   "source": [
    "# unique or not all elements\n",
    "\n",
    "def unique(mylist):\n",
    "    a=[]\n",
    "    for i in mylist:\n",
    "        if i in a:\n",
    "            print(i)\n",
    "            return False\n",
    "        else:\n",
    "            a.append(i)\n",
    "    return True\n",
    "\n",
    "mylist=[1,2,4,5,6]\n",
    "unique(mylist)\n"
   ]
  },
  {
   "cell_type": "code",
   "execution_count": 15,
   "id": "f920c074",
   "metadata": {},
   "outputs": [],
   "source": [
    "# Permutation\n",
    "\n",
    "def permutation(list1,list2):\n",
    "    if len(list1)!=len(list2):\n",
    "        return False\n",
    "    list1.sort()\n",
    "    list2.sort()\n",
    "    if list1 == list2:\n",
    "        return True\n",
    "    else:\n",
    "        return False"
   ]
  },
  {
   "cell_type": "code",
   "execution_count": 20,
   "id": "537de78a",
   "metadata": {},
   "outputs": [
    {
     "data": {
      "text/plain": [
       "[[7, 4, 1], [8, 5, 2], [9, 6, 3]]"
      ]
     },
     "execution_count": 20,
     "metadata": {},
     "output_type": "execute_result"
    }
   ],
   "source": [
    "# Rotate a matrix\n",
    "\n",
    "list1=[[1,2,3],[4,5,6],[7,8,9]]\n",
    "def rotateMatrix(list1):\n",
    "    n=len(list1)\n",
    "    for i in range(n//2):\n",
    "        for j in range(i,n-i-1):\n",
    "            temp = list1[i][j]\n",
    "            list1[i][j] = list1[-j-1][i]\n",
    "            list1[-j-1][i] = list1[-i-1][-j-1]\n",
    "            list1[-i-1][-j-1] = list1[j][-i-1]\n",
    "            list1[j][-i-1] = temp\n",
    "    return list1\n",
    "\n",
    "rotateMatrix(list1)\n",
    "            \n",
    "            \n",
    "            "
   ]
  },
  {
   "cell_type": "code",
   "execution_count": 30,
   "id": "cf4cc5af",
   "metadata": {},
   "outputs": [
    {
     "data": {
      "text/plain": [
       "['1+3', '-1+5', '-2+6']"
      ]
     },
     "execution_count": 30,
     "metadata": {},
     "output_type": "execute_result"
    }
   ],
   "source": [
    "def pairSum(myList, sum):\n",
    "    # TODO\n",
    "    pair=[]\n",
    "    for i in range(len(myList)):\n",
    "        for j in range(i+1,len(myList)):\n",
    "            if myList[i]+myList[j]==sum:\n",
    "                p=str(myList[i]) + '+' + str(myList[j])\n",
    "                pair.append(p)\n",
    "    return pair\n",
    "mylist=[1,2,3,-1,4,5,-2,4,8,6]\n",
    "pairSum(mylist,4)\n",
    "\n"
   ]
  },
  {
   "cell_type": "code",
   "execution_count": 27,
   "id": "7a1439cc",
   "metadata": {},
   "outputs": [
    {
     "data": {
      "text/plain": [
       "['2+5']"
      ]
     },
     "execution_count": 27,
     "metadata": {},
     "output_type": "execute_result"
    }
   ],
   "source": [
    "a"
   ]
  },
  {
   "cell_type": "code",
   "execution_count": null,
   "id": "7ce5f59f",
   "metadata": {},
   "outputs": [],
   "source": []
  }
 ],
 "metadata": {
  "kernelspec": {
   "display_name": "Python 3 (ipykernel)",
   "language": "python",
   "name": "python3"
  },
  "language_info": {
   "codemirror_mode": {
    "name": "ipython",
    "version": 3
   },
   "file_extension": ".py",
   "mimetype": "text/x-python",
   "name": "python",
   "nbconvert_exporter": "python",
   "pygments_lexer": "ipython3",
   "version": "3.9.12"
  }
 },
 "nbformat": 4,
 "nbformat_minor": 5
}
