{
 "cells": [
  {
   "cell_type": "code",
   "execution_count": 14,
   "id": "6e1dda55",
   "metadata": {},
   "outputs": [
    {
     "name": "stdout",
     "output_type": "stream",
     "text": [
      "name Shudhakar\n",
      "age 29\n",
      "city Lucknow\n"
     ]
    }
   ],
   "source": [
    "# Traversing through Dictionary\n",
    "\n",
    "myDict = {'name':'Shudhakar','age':29,'city':'Lucknow'}\n",
    "\n",
    "def traversedict(Dict):\n",
    "    for key in Dict:\n",
    "        print(key,Dict[key])\n",
    "traversedict(myDict)"
   ]
  },
  {
   "cell_type": "code",
   "execution_count": 17,
   "id": "c166c33b",
   "metadata": {},
   "outputs": [],
   "source": [
    "# Searching a value\n",
    "\n",
    "def Searchdict(dict,value):\n",
    "    for key in dict:\n",
    "        if dict[key] == value:\n",
    "            return key , value\n",
    "    return 'Does not exist'\n",
    "    \n"
   ]
  },
  {
   "cell_type": "code",
   "execution_count": 18,
   "id": "c4e216a3",
   "metadata": {},
   "outputs": [
    {
     "ename": "KeyError",
     "evalue": "'age'",
     "output_type": "error",
     "traceback": [
      "\u001b[0;31m---------------------------------------------------------------------------\u001b[0m",
      "\u001b[0;31mKeyError\u001b[0m                                  Traceback (most recent call last)",
      "Input \u001b[0;32mIn [18]\u001b[0m, in \u001b[0;36m<cell line: 9>\u001b[0;34m()\u001b[0m\n\u001b[1;32m      5\u001b[0m myDict\u001b[38;5;241m.\u001b[39mpopitem()  \u001b[38;5;66;03m# Randomly deletes one key value pair\u001b[39;00m\n\u001b[1;32m      7\u001b[0m myDict\u001b[38;5;241m.\u001b[39mclear()  \u001b[38;5;66;03m# Clears the whole dictionary\u001b[39;00m\n\u001b[0;32m----> 9\u001b[0m \u001b[38;5;28;01mdel\u001b[39;00m myDict[\u001b[38;5;124m'\u001b[39m\u001b[38;5;124mage\u001b[39m\u001b[38;5;124m'\u001b[39m]\n",
      "\u001b[0;31mKeyError\u001b[0m: 'age'"
     ]
    }
   ],
   "source": [
    "# Deletion\n",
    "\n",
    "myDict.pop('name')\n",
    "\n",
    "myDict.popitem()  # Randomly deletes one key value pair\n",
    "\n",
    "myDict.clear()  # Clears the whole dictionary\n",
    "\n",
    "del myDict['age']"
   ]
  },
  {
   "cell_type": "code",
   "execution_count": 19,
   "id": "f72a9737",
   "metadata": {},
   "outputs": [],
   "source": [
    "myDict = {'name':'Shudhakar','age':29,'city':'Lucknow'}"
   ]
  },
  {
   "cell_type": "code",
   "execution_count": 25,
   "id": "5a5e495e",
   "metadata": {},
   "outputs": [
    {
     "name": "stdout",
     "output_type": "stream",
     "text": [
      "6\n"
     ]
    }
   ],
   "source": [
    "init_tuple = [(0, 1), (1, 2), (2, 3)]\n",
    " \n",
    "result = sum(n for _,n in init_tuple)\n",
    " \n",
    "print(result)"
   ]
  },
  {
   "cell_type": "code",
   "execution_count": null,
   "id": "00d0f431",
   "metadata": {},
   "outputs": [],
   "source": []
  },
  {
   "cell_type": "code",
   "execution_count": null,
   "id": "ff4bc5d6",
   "metadata": {},
   "outputs": [],
   "source": []
  }
 ],
 "metadata": {
  "kernelspec": {
   "display_name": "Python 3 (ipykernel)",
   "language": "python",
   "name": "python3"
  },
  "language_info": {
   "codemirror_mode": {
    "name": "ipython",
    "version": 3
   },
   "file_extension": ".py",
   "mimetype": "text/x-python",
   "name": "python",
   "nbconvert_exporter": "python",
   "pygments_lexer": "ipython3",
   "version": "3.9.12"
  }
 },
 "nbformat": 4,
 "nbformat_minor": 5
}
