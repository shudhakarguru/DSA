{
 "cells": [
  {
   "cell_type": "code",
   "execution_count": 2,
   "id": "f3516966",
   "metadata": {},
   "outputs": [],
   "source": [
    "class AVLNode:\n",
    "    def __init__(self,data):\n",
    "        self.data = data\n",
    "        self.leftchild = None\n",
    "        self.rightchild = None\n",
    "        self.height = 1\n"
   ]
  },
  {
   "cell_type": "code",
   "execution_count": 3,
   "id": "de6adfe1",
   "metadata": {},
   "outputs": [],
   "source": [
    "AVLTree = AVLNode(10)"
   ]
  },
  {
   "cell_type": "code",
   "execution_count": 4,
   "id": "c25394d1",
   "metadata": {},
   "outputs": [],
   "source": [
    "#PRE-ORDER-TRAVERSAL\n",
    "def preordertraversal(rootNode):\n",
    "    if not rootNode:\n",
    "        return\n",
    "    print(rootNode.data)\n",
    "    preordertraversal(rootNode.leftchild)\n",
    "    preordertraversal(rootNode.rightchild)\n",
    "    \n",
    "#IN-ORDER-TRAVERSAL\n",
    "def inordertraversal(rootNode):\n",
    "    if not rootNode:\n",
    "        return\n",
    "    inordertraversal(rootNode.leftchild)\n",
    "    print(rootNode.data)\n",
    "    inordertraversal(rootNode.rightchild)\n",
    "    \n",
    "#LEVEL-ORDER-TRAVERSAL\n",
    "import queue\n",
    "def levelordertraversal(rootNode):\n",
    "    if not rootNode:\n",
    "        return\n",
    "    customqueue=queue.Queue()\n",
    "    customqueue.put(rootNode)\n",
    "    while not customqueue.empty():\n",
    "        root = customqueue.get()\n",
    "        print(root.data)\n",
    "        if root.leftchild is not None:\n",
    "            customqueue.put(root.leftchild)\n",
    "        if root.rightchild is not None:\n",
    "            customqueue.put(root.rightchild)"
   ]
  },
  {
   "cell_type": "code",
   "execution_count": 5,
   "id": "a63a8e41",
   "metadata": {},
   "outputs": [],
   "source": [
    "#Searching\n",
    "\n",
    "def searchNode(rootNode,nodeValue):\n",
    "    if rootNode.data == nodeValue:\n",
    "        return \"The value is found\"\n",
    "    elif nodeValue<rootNode.data:\n",
    "        if rootNode.leftchild.data==nodeValue:\n",
    "            return \"The value is found\"\n",
    "        else:\n",
    "            searchNode(rootNode.leftchild,nodeValue)\n",
    "    else:\n",
    "        if rootNode.rightchild.data==nodeValue:\n",
    "            return \"The value is found\"\n",
    "        else:\n",
    "            searchNode(rootNode.rightchild,nodeValue)\n",
    "            \n",
    "            \n",
    "        "
   ]
  },
  {
   "cell_type": "code",
   "execution_count": null,
   "id": "22dba3a6",
   "metadata": {},
   "outputs": [],
   "source": []
  }
 ],
 "metadata": {
  "kernelspec": {
   "display_name": "Python 3 (ipykernel)",
   "language": "python",
   "name": "python3"
  },
  "language_info": {
   "codemirror_mode": {
    "name": "ipython",
    "version": 3
   },
   "file_extension": ".py",
   "mimetype": "text/x-python",
   "name": "python",
   "nbconvert_exporter": "python",
   "pygments_lexer": "ipython3",
   "version": "3.9.12"
  }
 },
 "nbformat": 4,
 "nbformat_minor": 5
}
