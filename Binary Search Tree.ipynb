{
 "cells": [
  {
   "cell_type": "code",
   "execution_count": 8,
   "id": "2d1e6143",
   "metadata": {},
   "outputs": [],
   "source": [
    "class BSTNode:\n",
    "    def __init__(self,data):\n",
    "        self.data = data\n",
    "        self.leftchild = None\n",
    "        self.rightchild = None\n",
    "        \n",
    "def insertNode(rootNode,Nodevalue):\n",
    "    if rootNode.data == None:\n",
    "        rootNode.data = Nodevalue\n",
    "    elif rootNode.data>=Nodevalue:\n",
    "        if rootNode.leftchild is None:\n",
    "            rootNode.leftchild = BSTNode(Nodevalue)\n",
    "        else:\n",
    "            insertNode(rootNode.leftchild,Nodevalue)\n",
    "    else:\n",
    "        if rootNode.rightchild is None:\n",
    "            rootNode.rightchild = BSTNode(Nodevalue)\n",
    "        else:\n",
    "            insertNode(rootNode.rightchild,Nodevalue)\n",
    "    return \"Node is inserted\"\n",
    "            "
   ]
  },
  {
   "cell_type": "code",
   "execution_count": 26,
   "id": "0c5e5032",
   "metadata": {},
   "outputs": [
    {
     "data": {
      "text/plain": [
       "'Node is inserted'"
      ]
     },
     "execution_count": 26,
     "metadata": {},
     "output_type": "execute_result"
    }
   ],
   "source": [
    "newtree = BSTNode(None)\n",
    "insertNode(newtree,70)\n",
    "insertNode(newtree,60)\n",
    "insertNode(newtree,55)\n",
    "insertNode(newtree,53)"
   ]
  },
  {
   "cell_type": "code",
   "execution_count": 27,
   "id": "2a931645",
   "metadata": {},
   "outputs": [
    {
     "name": "stdout",
     "output_type": "stream",
     "text": [
      "Node is inserted\n"
     ]
    }
   ],
   "source": [
    "print(insertNode(newtree,80))"
   ]
  },
  {
   "cell_type": "code",
   "execution_count": 11,
   "id": "59c59642",
   "metadata": {},
   "outputs": [],
   "source": [
    "#PRE-ORDER-TRAVERSAL\n",
    "def preordertraversal(rootNode):\n",
    "    if not rootNode:\n",
    "        return\n",
    "    print(rootNode.data)\n",
    "    preordertraversal(rootNode.leftchild)\n",
    "    preordertraversal(rootNode.rightchild)"
   ]
  },
  {
   "cell_type": "code",
   "execution_count": 12,
   "id": "f96fc813",
   "metadata": {},
   "outputs": [
    {
     "name": "stdout",
     "output_type": "stream",
     "text": [
      "70\n",
      "60\n",
      "80\n"
     ]
    }
   ],
   "source": [
    "preordertraversal(newtree)"
   ]
  },
  {
   "cell_type": "code",
   "execution_count": 13,
   "id": "612aba02",
   "metadata": {},
   "outputs": [],
   "source": [
    "#IN-ORDER-TRAVERSAL\n",
    "def inordertraversal(rootNode):\n",
    "    if not rootNode:\n",
    "        return\n",
    "    inordertraversal(rootNode.leftchild)\n",
    "    print(rootNode.data)\n",
    "    inordertraversal(rootNode.rightchild)"
   ]
  },
  {
   "cell_type": "code",
   "execution_count": 14,
   "id": "afcf30e2",
   "metadata": {},
   "outputs": [],
   "source": [
    "#LEVEL-ORDER-TRAVERSAL\n",
    "import queue\n",
    "def levelordertraversal(rootNode):\n",
    "    if not rootNode:\n",
    "        return\n",
    "    customqueue=queue.Queue()\n",
    "    customqueue.put(rootNode)\n",
    "    while not customqueue.empty():\n",
    "        root = customqueue.get()\n",
    "        print(root.data)\n",
    "        if root.leftchild is not None:\n",
    "            customqueue.put(root.leftchild)\n",
    "        if root.rightchild is not None:\n",
    "            customqueue.put(root.rightchild)"
   ]
  },
  {
   "cell_type": "code",
   "execution_count": 20,
   "id": "a10c3aca",
   "metadata": {},
   "outputs": [],
   "source": [
    "#Searching\n",
    "\n",
    "def searchNode(rootNode,nodeValue):\n",
    "    if rootNode.data == nodeValue:\n",
    "        return \"The value is found\"\n",
    "    elif nodeValue<rootNode.data:\n",
    "        if rootNode.leftchild.data==nodeValue:\n",
    "            return \"The value is found\"\n",
    "        else:\n",
    "            searchNode(rootNode.leftchild,nodeValue)\n",
    "    else:\n",
    "        if rootNode.rightchild.data==nodeValue:\n",
    "            return \"The value is found\"\n",
    "        else:\n",
    "            searchNode(rootNode.rightchild,nodeValue)\n",
    "            \n",
    "            \n",
    "        "
   ]
  },
  {
   "cell_type": "code",
   "execution_count": 21,
   "id": "58a2c757",
   "metadata": {},
   "outputs": [
    {
     "data": {
      "text/plain": [
       "'The value is found'"
      ]
     },
     "execution_count": 21,
     "metadata": {},
     "output_type": "execute_result"
    }
   ],
   "source": [
    "searchNode(newtree,80)"
   ]
  },
  {
   "cell_type": "code",
   "execution_count": 22,
   "id": "fef0c238",
   "metadata": {},
   "outputs": [],
   "source": [
    "#Deletion\n",
    "\n",
    "def minValue(bstNode):\n",
    "    current = bstNode\n",
    "    while(current.bstNode is not None):\n",
    "        current = current.leftchild\n",
    "    return current\n",
    "\n",
    "def deleteNode(rootNode , nodeValue):\n",
    "    if rootNode is None:\n",
    "        return rootNode\n",
    "    if nodeValue<rootNode.data:\n",
    "        rootNode.leftchild = deleteNode(rootNode.leftchild,nodeValue)\n",
    "    elif nodeValue > rootNode.data:\n",
    "        rootNode.rightchild = deleteNode(rootNode.rightchild,nodeValue)\n",
    "    else:\n",
    "        if rootNode.leftchild is None:\n",
    "            temp = rootNode.rightchild\n",
    "            rootNode = None\n",
    "            return temp\n",
    "        \n",
    "        if rootNode.rightchild is None:\n",
    "            temp = rootNode.leftchild\n",
    "            rootNode = None\n",
    "            return temp\n",
    "        \n",
    "        temp = minValue(rootNode.rightchild)\n",
    "        rootNode.data = temp.data\n",
    "        rootNode.rightchild = deleteNode(rootNode.rightchild,temp.data)\n",
    "    return rootNode"
   ]
  },
  {
   "cell_type": "code",
   "execution_count": 28,
   "id": "97ee9412",
   "metadata": {},
   "outputs": [
    {
     "data": {
      "text/plain": [
       "<__main__.BSTNode at 0x7fb1270c0e80>"
      ]
     },
     "execution_count": 28,
     "metadata": {},
     "output_type": "execute_result"
    }
   ],
   "source": [
    "deleteNode(newtree,60)"
   ]
  },
  {
   "cell_type": "code",
   "execution_count": 30,
   "id": "07fc8118",
   "metadata": {},
   "outputs": [
    {
     "name": "stdout",
     "output_type": "stream",
     "text": [
      "70\n",
      "55\n",
      "53\n",
      "80\n"
     ]
    }
   ],
   "source": [
    "preordertraversal(newtree)"
   ]
  },
  {
   "cell_type": "code",
   "execution_count": null,
   "id": "afd1b645",
   "metadata": {},
   "outputs": [],
   "source": []
  }
 ],
 "metadata": {
  "kernelspec": {
   "display_name": "Python 3 (ipykernel)",
   "language": "python",
   "name": "python3"
  },
  "language_info": {
   "codemirror_mode": {
    "name": "ipython",
    "version": 3
   },
   "file_extension": ".py",
   "mimetype": "text/x-python",
   "name": "python",
   "nbconvert_exporter": "python",
   "pygments_lexer": "ipython3",
   "version": "3.9.12"
  }
 },
 "nbformat": 4,
 "nbformat_minor": 5
}
