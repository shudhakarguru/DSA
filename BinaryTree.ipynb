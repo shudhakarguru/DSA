{
 "cells": [
  {
   "cell_type": "code",
   "execution_count": 1,
   "id": "b1963d81",
   "metadata": {},
   "outputs": [],
   "source": [
    "#Creation of Tree\n",
    "class TreeNode:\n",
    "    def __init__(self,data):\n",
    "        self.data = data\n",
    "        self.leftchild = None\n",
    "        self.rightchild = None"
   ]
  },
  {
   "cell_type": "code",
   "execution_count": 2,
   "id": "435ef678",
   "metadata": {},
   "outputs": [],
   "source": [
    "newt=TreeNode('drinks')\n",
    "leftchild = TreeNode('Hot')\n",
    "rightchild = TreeNode('Cold')\n",
    "newt.leftchild = leftchild\n",
    "newt.rightchild = rightchild"
   ]
  },
  {
   "cell_type": "code",
   "execution_count": 3,
   "id": "e426e678",
   "metadata": {},
   "outputs": [],
   "source": [
    "#PRE-ORDER-TRAVERSAL\n",
    "def preordertraversal(rootNode):\n",
    "    if not rootNode:\n",
    "        return\n",
    "    print(rootNode.data)\n",
    "    preordertraversal(rootNode.leftchild)\n",
    "    preordertraversal(rootNode.rightchild)"
   ]
  },
  {
   "cell_type": "code",
   "execution_count": 4,
   "id": "ef1c1162",
   "metadata": {},
   "outputs": [
    {
     "name": "stdout",
     "output_type": "stream",
     "text": [
      "drinks\n",
      "Hot\n",
      "Cold\n"
     ]
    }
   ],
   "source": [
    "preordertraversal(newt)"
   ]
  },
  {
   "cell_type": "code",
   "execution_count": 5,
   "id": "66ba100f",
   "metadata": {},
   "outputs": [],
   "source": [
    "#IN-ORDER-TRAVERSAL\n",
    "def inordertraversal(rootNode):\n",
    "    if not rootNode:\n",
    "        return\n",
    "    inordertraversal(rootNode.leftchild)\n",
    "    print(rootNode.data)\n",
    "    inordertraversal(rootNode.rightchild)"
   ]
  },
  {
   "cell_type": "code",
   "execution_count": 6,
   "id": "8ed62b25",
   "metadata": {},
   "outputs": [
    {
     "name": "stdout",
     "output_type": "stream",
     "text": [
      "Hot\n",
      "drinks\n",
      "Cold\n"
     ]
    }
   ],
   "source": [
    "inordertraversal(newt)"
   ]
  },
  {
   "cell_type": "code",
   "execution_count": 7,
   "id": "1f7f299a",
   "metadata": {},
   "outputs": [],
   "source": [
    "#POST-ORDER-TRAVERSAL\n",
    "def postordertraversal(rootNode):\n",
    "    if not rootNode:\n",
    "        return\n",
    "    postordertraversal(rootNode.leftchild)\n",
    "    postordertraversal(rootNode.rightchild)\n",
    "    print(rootNode.data)"
   ]
  },
  {
   "cell_type": "code",
   "execution_count": 8,
   "id": "3d993136",
   "metadata": {},
   "outputs": [
    {
     "name": "stdout",
     "output_type": "stream",
     "text": [
      "Hot\n",
      "Cold\n",
      "drinks\n"
     ]
    }
   ],
   "source": [
    "postordertraversal(newt)"
   ]
  },
  {
   "cell_type": "code",
   "execution_count": 9,
   "id": "c93458c8",
   "metadata": {},
   "outputs": [],
   "source": [
    "#LEVEL-ORDER-TRAVERSAL\n",
    "import queue\n",
    "def levelordertraversal(rootNode):\n",
    "    if not rootNode:\n",
    "        return\n",
    "    customqueue=queue.Queue()\n",
    "    customqueue.put(rootNode)\n",
    "    while not customqueue.empty():\n",
    "        root = customqueue.get()\n",
    "        print(root.data)\n",
    "        if root.leftchild is not None:\n",
    "            customqueue.put(root.leftchild)\n",
    "        if root.rightchild is not None:\n",
    "            customqueue.put(root.rightchild)"
   ]
  },
  {
   "cell_type": "code",
   "execution_count": 10,
   "id": "b9aa0612",
   "metadata": {},
   "outputs": [
    {
     "name": "stdout",
     "output_type": "stream",
     "text": [
      "drinks\n",
      "Hot\n",
      "Cold\n"
     ]
    }
   ],
   "source": [
    "levelordertraversal(newt)"
   ]
  },
  {
   "cell_type": "code",
   "execution_count": 11,
   "id": "e88a4d56",
   "metadata": {},
   "outputs": [],
   "source": [
    "#SEARCHING FOR A NODE\n",
    "def searchBT(rootNode,nodevalue):\n",
    "    if not rootNode:\n",
    "        return \"Binary tree does not exist\"\n",
    "    customqueue=queue.Queue()\n",
    "    customqueue.put(rootNode)\n",
    "    while not customqueue.empty():\n",
    "        root = customqueue.get()\n",
    "        if root.data == nodevalue:\n",
    "            return \"Success\"\n",
    "        if root.leftchild is not None:\n",
    "            customqueue.put(root.leftchild)\n",
    "        if root.rightchild is not None:\n",
    "            customqueue.put(root.rightchild)\n",
    "    return \"Unsuccess\"\n",
    "    \n",
    "    "
   ]
  },
  {
   "cell_type": "code",
   "execution_count": 12,
   "id": "150952ad",
   "metadata": {},
   "outputs": [
    {
     "data": {
      "text/plain": [
       "'Success'"
      ]
     },
     "execution_count": 12,
     "metadata": {},
     "output_type": "execute_result"
    }
   ],
   "source": [
    "searchBT(newt,'Cold')"
   ]
  },
  {
   "cell_type": "code",
   "execution_count": 13,
   "id": "56951786",
   "metadata": {},
   "outputs": [],
   "source": [
    "# INSERING A NODE\n",
    "def insertNodeBT(rootNode,newNode):\n",
    "    if not rootNode:\n",
    "        newNode=rootNode\n",
    "    else:\n",
    "        customqueue=queue.Queue()\n",
    "        customqueue.put(rootNode)\n",
    "        while not customqueue.empty():\n",
    "            root = customqueue.get()\n",
    "            if root.leftchild is not None:\n",
    "                customqueue.put(root.leftchild)\n",
    "            else:\n",
    "                root.leftchild = newNode\n",
    "                return 'successfully inserted'\n",
    "            if root.rightchild is not None:\n",
    "                customqueue.put(root.rightchild)\n",
    "            else:\n",
    "                root.rightchild = newNode\n",
    "                return 'successfully inserted'\n",
    "            \n",
    "                \n",
    "            \n",
    "        \n",
    "        "
   ]
  },
  {
   "cell_type": "code",
   "execution_count": 14,
   "id": "3cbf3f28",
   "metadata": {},
   "outputs": [],
   "source": [
    "newNode = TreeNode('Tea')"
   ]
  },
  {
   "cell_type": "code",
   "execution_count": 15,
   "id": "c7755fa7",
   "metadata": {},
   "outputs": [
    {
     "data": {
      "text/plain": [
       "'successfully inserted'"
      ]
     },
     "execution_count": 15,
     "metadata": {},
     "output_type": "execute_result"
    }
   ],
   "source": [
    "insertNodeBT(newt,newNode)"
   ]
  },
  {
   "cell_type": "code",
   "execution_count": 16,
   "id": "4f634efd",
   "metadata": {},
   "outputs": [
    {
     "name": "stdout",
     "output_type": "stream",
     "text": [
      "drinks\n",
      "Hot\n",
      "Cold\n",
      "Tea\n"
     ]
    }
   ],
   "source": [
    "levelordertraversal(newt)"
   ]
  },
  {
   "cell_type": "code",
   "execution_count": 17,
   "id": "87e0202f",
   "metadata": {},
   "outputs": [],
   "source": [
    "newNode2=TreeNode('Coffee')"
   ]
  },
  {
   "cell_type": "code",
   "execution_count": 18,
   "id": "7afb7378",
   "metadata": {},
   "outputs": [
    {
     "data": {
      "text/plain": [
       "'successfully inserted'"
      ]
     },
     "execution_count": 18,
     "metadata": {},
     "output_type": "execute_result"
    }
   ],
   "source": [
    "insertNodeBT(newt,newNode2)"
   ]
  },
  {
   "cell_type": "code",
   "execution_count": 19,
   "id": "88be9e4a",
   "metadata": {},
   "outputs": [
    {
     "name": "stdout",
     "output_type": "stream",
     "text": [
      "drinks\n",
      "Hot\n",
      "Cold\n",
      "Tea\n",
      "Coffee\n"
     ]
    }
   ],
   "source": [
    "levelordertraversal(newt)"
   ]
  },
  {
   "cell_type": "code",
   "execution_count": 20,
   "id": "41b1f5df",
   "metadata": {},
   "outputs": [],
   "source": [
    "#DELETE A NODE\n",
    "def getdeepestNode(rootNode):\n",
    "    if not rootNode:\n",
    "        return\n",
    "    customqueue=queue.Queue()\n",
    "    customqueue.put(rootNode)\n",
    "    while not customqueue.empty():\n",
    "        root = customqueue.get()\n",
    "        if root.leftchild is not None:\n",
    "            customqueue.put(root.leftchild)\n",
    "        if root.rightchild is not None:\n",
    "            customqueue.put(root.rightchild)\n",
    "    deepestNode = root\n",
    "    return deepestNode\n",
    "    "
   ]
  },
  {
   "cell_type": "code",
   "execution_count": 21,
   "id": "38a8ad8a",
   "metadata": {},
   "outputs": [
    {
     "name": "stdout",
     "output_type": "stream",
     "text": [
      "Coffee\n"
     ]
    }
   ],
   "source": [
    "deepestNode=getdeepestNode(newt)\n",
    "print(deepestNode.data)"
   ]
  },
  {
   "cell_type": "code",
   "execution_count": 22,
   "id": "21156221",
   "metadata": {},
   "outputs": [],
   "source": [
    "def deletedeepestNode(rootNode,dNode):\n",
    "    if not rootNode:\n",
    "        return\n",
    "    customqueue=queue.Queue()\n",
    "    customqueue.put(rootNode)\n",
    "    while not customqueue.empty():\n",
    "        root = customqueue.get()\n",
    "        if root is dNode:\n",
    "            root = None\n",
    "            return\n",
    "        if root.rightchild:\n",
    "            if root.rightchild is dNode:\n",
    "                root.rightchild = None\n",
    "                return\n",
    "            else:\n",
    "                customqueue.put(root.rightchild)\n",
    "        \n",
    "        if root.leftchild:\n",
    "            if root.leftchild is dNode:\n",
    "                root.leftchild = None\n",
    "                return\n",
    "            else:\n",
    "                customqueue.put(root.leftchild)\n",
    "        \n",
    "    "
   ]
  },
  {
   "cell_type": "code",
   "execution_count": 23,
   "id": "de0791ce",
   "metadata": {},
   "outputs": [],
   "source": [
    "newNode=getdeepestNode(newt)\n",
    "deletedeepestNode(newt,newNode)"
   ]
  },
  {
   "cell_type": "code",
   "execution_count": 24,
   "id": "dab89266",
   "metadata": {},
   "outputs": [
    {
     "name": "stdout",
     "output_type": "stream",
     "text": [
      "drinks\n",
      "Hot\n",
      "Cold\n",
      "Tea\n"
     ]
    }
   ],
   "source": [
    "levelordertraversal(newt)"
   ]
  },
  {
   "cell_type": "code",
   "execution_count": 25,
   "id": "6e360c05",
   "metadata": {},
   "outputs": [],
   "source": [
    "def deleteNodeBT(rootNode,node):\n",
    "    if not rootNode:\n",
    "        return 'The BT doesnt exist'\n",
    "    customqueue=queue.Queue()\n",
    "    customqueue.put(rootNode)\n",
    "    while not customqueue.empty():\n",
    "        root = customqueue.get()\n",
    "        if root.data == node:\n",
    "            dNode = getdeepestNode(rootNode)\n",
    "            root.data = dNode.data\n",
    "            deletedeepestNode(rootNode,dNode)\n",
    "            return \"The Node is deleted\"\n",
    "        if root.leftchild is not None:\n",
    "            customqueue.put(root.leftchild)\n",
    "        if root.rightchild is not None:\n",
    "            customqueue.put(root.rightchild)\n",
    "    return 'Failed to delete'\n",
    "    "
   ]
  },
  {
   "cell_type": "code",
   "execution_count": 26,
   "id": "8dca4133",
   "metadata": {},
   "outputs": [
    {
     "data": {
      "text/plain": [
       "'The Node is deleted'"
      ]
     },
     "execution_count": 26,
     "metadata": {},
     "output_type": "execute_result"
    }
   ],
   "source": [
    "deleteNodeBT(newt,'drinks')"
   ]
  },
  {
   "cell_type": "code",
   "execution_count": 27,
   "id": "2db3a6d2",
   "metadata": {},
   "outputs": [
    {
     "name": "stdout",
     "output_type": "stream",
     "text": [
      "Tea\n",
      "Hot\n",
      "Cold\n"
     ]
    }
   ],
   "source": [
    "levelordertraversal(newt)"
   ]
  },
  {
   "cell_type": "code",
   "execution_count": null,
   "id": "595389df",
   "metadata": {},
   "outputs": [],
   "source": []
  }
 ],
 "metadata": {
  "kernelspec": {
   "display_name": "Python 3 (ipykernel)",
   "language": "python",
   "name": "python3"
  },
  "language_info": {
   "codemirror_mode": {
    "name": "ipython",
    "version": 3
   },
   "file_extension": ".py",
   "mimetype": "text/x-python",
   "name": "python",
   "nbconvert_exporter": "python",
   "pygments_lexer": "ipython3",
   "version": "3.9.12"
  }
 },
 "nbformat": 4,
 "nbformat_minor": 5
}
