{
 "cells": [
  {
   "cell_type": "code",
   "execution_count": 9,
   "id": "eabd592b",
   "metadata": {},
   "outputs": [],
   "source": [
    "def recursivemethod(n):\n",
    "    if n<1:\n",
    "        print(\"n is less than 1\")\n",
    "    else:\n",
    "        print(n)\n",
    "        recursivemethod(n-1)"
   ]
  },
  {
   "cell_type": "code",
   "execution_count": 10,
   "id": "13e97037",
   "metadata": {},
   "outputs": [
    {
     "name": "stdout",
     "output_type": "stream",
     "text": [
      "5\n",
      "4\n",
      "3\n",
      "2\n",
      "1\n",
      "n is less than 1\n"
     ]
    }
   ],
   "source": [
    "recursivemethod(5)"
   ]
  },
  {
   "cell_type": "code",
   "execution_count": 11,
   "id": "d15381f6",
   "metadata": {},
   "outputs": [],
   "source": [
    "def recursivemethod(n):\n",
    "    if n<1:\n",
    "        print(\"n is less than 1\")\n",
    "    else:\n",
    "        recursivemethod(n-1)\n",
    "        print(n)\n",
    "        "
   ]
  },
  {
   "cell_type": "code",
   "execution_count": 12,
   "id": "68703b2c",
   "metadata": {},
   "outputs": [
    {
     "name": "stdout",
     "output_type": "stream",
     "text": [
      "n is less than 1\n",
      "1\n",
      "2\n",
      "3\n",
      "4\n",
      "5\n"
     ]
    }
   ],
   "source": [
    "recursivemethod(5)"
   ]
  },
  {
   "cell_type": "code",
   "execution_count": 39,
   "id": "e1d78d5f",
   "metadata": {},
   "outputs": [
    {
     "name": "stdout",
     "output_type": "stream",
     "text": [
      "720\n"
     ]
    }
   ],
   "source": [
    "#Factorial Code\n",
    "\n",
    "def factorial(n):\n",
    "    assert n>=0 and int(n)==n , \"The number must be positive integer\"\n",
    "    if n in(0,1):\n",
    "        return 1\n",
    "    else:\n",
    "        return n*factorial(n-1)\n",
    "    \n",
    "print(factorial(6))"
   ]
  },
  {
   "cell_type": "code",
   "execution_count": 94,
   "id": "f6bdc894",
   "metadata": {},
   "outputs": [
    {
     "name": "stdout",
     "output_type": "stream",
     "text": [
      "55\n"
     ]
    }
   ],
   "source": [
    "# Fibonacci number\n",
    "\n",
    "def fibonacci(n):\n",
    "    if n<0 or n!=int(n):\n",
    "        return 'Not possible to get fibonacci'\n",
    "    elif n<=1:\n",
    "        return n\n",
    "    else:\n",
    "        return fibonacci(n-1)+fibonacci(n-2)\n",
    "    \n",
    "print(fibonacci(10))\n",
    "    "
   ]
  },
  {
   "cell_type": "code",
   "execution_count": 48,
   "id": "32a0e337",
   "metadata": {},
   "outputs": [
    {
     "name": "stdout",
     "output_type": "stream",
     "text": [
      "9\n"
     ]
    }
   ],
   "source": [
    "#sum of digits\n",
    "\n",
    "def sumofdigits(n):\n",
    "    assert n>=0 and int(n)==n , \"The number must be positive integer\"\n",
    "    if n//10==0:\n",
    "        return n\n",
    "    else:\n",
    "        return n%10 + sumofdigits(n//10)\n",
    "\n",
    "print(sumofdigits(11223))"
   ]
  },
  {
   "cell_type": "code",
   "execution_count": 68,
   "id": "919380e0",
   "metadata": {},
   "outputs": [
    {
     "name": "stdout",
     "output_type": "stream",
     "text": [
      "0.1923076923076923\n"
     ]
    }
   ],
   "source": [
    "# Power\n",
    "\n",
    "def power(x,n):\n",
    "    assert int(n)==n , \"The number must be positive integer\"\n",
    "    if n==0:\n",
    "        return 1\n",
    "    elif n<0:\n",
    "        return 1/x*power(x,n+1)\n",
    "    else:\n",
    "        return x*power(x,n-1)\n",
    "    \n",
    "print(power(5.2,-1))"
   ]
  },
  {
   "cell_type": "code",
   "execution_count": 84,
   "id": "2c3c2708",
   "metadata": {},
   "outputs": [
    {
     "name": "stdout",
     "output_type": "stream",
     "text": [
      "60\n"
     ]
    }
   ],
   "source": [
    "#Greatest common divisor\n",
    "\n",
    "def gcd(a,b):\n",
    "    assert int(a)==a and int(b)==b, \"The number must be int\"\n",
    "    if a<0 or b<0:\n",
    "        a=abs(a)\n",
    "        b=abs(b)\n",
    "    if a%b==0:\n",
    "        return b\n",
    "    else:\n",
    "        return gcd(b,a%b)\n",
    "    \n",
    "print(gcd(-480,-180))"
   ]
  },
  {
   "cell_type": "code",
   "execution_count": 91,
   "id": "56386afd",
   "metadata": {},
   "outputs": [
    {
     "name": "stdout",
     "output_type": "stream",
     "text": [
      "1011\n"
     ]
    }
   ],
   "source": [
    "#decimal to binary\n",
    "\n",
    "def dectobin(n):\n",
    "    assert int(n)==n , \"The number must be integer\"\n",
    "    if n==0:\n",
    "        return 0\n",
    "    else:\n",
    "        return (n%2)+10*dectobin(n//2)\n",
    "    \n",
    "print(dectobin(11))\n",
    "    "
   ]
  },
  {
   "cell_type": "code",
   "execution_count": 96,
   "id": "478b8ae8",
   "metadata": {},
   "outputs": [],
   "source": [
    "#reverse a string\n",
    "\n",
    "def reverse(strng):\n",
    "    if len(strng)==1:\n",
    "        return strng\n",
    "    else:\n",
    "        return strng[-1]+reverse(strng[:-1])\n",
    "        "
   ]
  },
  {
   "cell_type": "code",
   "execution_count": null,
   "id": "e61a1c90",
   "metadata": {},
   "outputs": [],
   "source": [
    "# palindrome\n",
    "\n",
    "def isPalindrome(strng):\n",
    "    if len(strng)==0:\n",
    "        return True\n",
    "    if strng[0]!=strng[-1]:\n",
    "        return False\n",
    "    return isPalindrome(strng[1:-1])"
   ]
  }
 ],
 "metadata": {
  "kernelspec": {
   "display_name": "Python 3 (ipykernel)",
   "language": "python",
   "name": "python3"
  },
  "language_info": {
   "codemirror_mode": {
    "name": "ipython",
    "version": 3
   },
   "file_extension": ".py",
   "mimetype": "text/x-python",
   "name": "python",
   "nbconvert_exporter": "python",
   "pygments_lexer": "ipython3",
   "version": "3.9.12"
  }
 },
 "nbformat": 4,
 "nbformat_minor": 5
}
