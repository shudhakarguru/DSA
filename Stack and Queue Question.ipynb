{
 "cells": [
  {
   "cell_type": "code",
   "execution_count": null,
   "id": "75de1eed",
   "metadata": {},
   "outputs": [],
   "source": [
    "class Multistack:\n",
    "    def __init__(self, stacksize):\n",
    "        self.numberstacks = 3\n",
    "        self.custlist = [0]*(stacksize*self.numberstacks)\n",
    "        self.sizes = [0]*self.numberstacks\n",
    "        self.stacksize = stacksize\n",
    "        \n",
    "    def isfull(self,stacknum):\n",
    "        if self.sizes[stacknum] = self.stacksize:\n",
    "            return True\n",
    "        else:\n",
    "            return False\n",
    "    def indexofTop(self,stacknum):\n",
    "        offset = stack\n",
    "        "
   ]
  }
 ],
 "metadata": {
  "kernelspec": {
   "display_name": "Python 3 (ipykernel)",
   "language": "python",
   "name": "python3"
  },
  "language_info": {
   "codemirror_mode": {
    "name": "ipython",
    "version": 3
   },
   "file_extension": ".py",
   "mimetype": "text/x-python",
   "name": "python",
   "nbconvert_exporter": "python",
   "pygments_lexer": "ipython3",
   "version": "3.9.12"
  }
 },
 "nbformat": 4,
 "nbformat_minor": 5
}
