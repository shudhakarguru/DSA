{
 "cells": [
  {
   "cell_type": "code",
   "execution_count": 6,
   "id": "d91e85bb",
   "metadata": {},
   "outputs": [],
   "source": [
    "#Linear Search\n",
    "def linearsearch(arr,value):\n",
    "    for i in range(len(arr)):\n",
    "        if arr[i]==value:\n",
    "            return i\n",
    "    return 'value not in arr'\n",
    "#TIME:O(n), Space:O(1)"
   ]
  },
  {
   "cell_type": "code",
   "execution_count": 3,
   "id": "12e15399",
   "metadata": {},
   "outputs": [],
   "source": [
    "arr=[1,2,2,4,6,10,44,55,11]"
   ]
  },
  {
   "cell_type": "code",
   "execution_count": 5,
   "id": "61c7a0eb",
   "metadata": {},
   "outputs": [
    {
     "data": {
      "text/plain": [
       "4"
      ]
     },
     "execution_count": 5,
     "metadata": {},
     "output_type": "execute_result"
    }
   ],
   "source": [
    "linearsearch(arr,6)"
   ]
  },
  {
   "cell_type": "code",
   "execution_count": 18,
   "id": "dfbdaef6",
   "metadata": {},
   "outputs": [],
   "source": [
    "#Binary Search\n",
    "def binarySearch(arr,value):\n",
    "    left=0\n",
    "    right=len(arr)-1\n",
    "    \n",
    "    while left<=right:\n",
    "        \n",
    "        mid = (left+right)//2\n",
    "        \n",
    "        if arr[mid]==value:\n",
    "            return mid\n",
    "        \n",
    "        elif arr[mid]>value:\n",
    "            right = mid-1\n",
    "            \n",
    "        else:\n",
    "            left = mid +1\n",
    "            \n",
    "    return 'Value not in arr'\n",
    "\n",
    "#TIME:O(logn)  , Space:O(1)\n",
    "    "
   ]
  },
  {
   "cell_type": "code",
   "execution_count": 22,
   "id": "515cb9a8",
   "metadata": {},
   "outputs": [],
   "source": [
    "arr=[1,2,4,5,7,9,11,15,18]"
   ]
  },
  {
   "cell_type": "code",
   "execution_count": 20,
   "id": "56bdff11",
   "metadata": {},
   "outputs": [
    {
     "data": {
      "text/plain": [
       "5"
      ]
     },
     "execution_count": 20,
     "metadata": {},
     "output_type": "execute_result"
    }
   ],
   "source": [
    "binarySearch(arr,9)"
   ]
  },
  {
   "cell_type": "code",
   "execution_count": 30,
   "id": "19bf8902",
   "metadata": {},
   "outputs": [],
   "source": [
    "#Binary search in Recursive\n",
    "\n",
    "def binaryRecursiveSearch(arr,left,right,value):\n",
    "    \n",
    "    if left<=right:\n",
    "        \n",
    "        mid = (left+right)//2\n",
    "        \n",
    "        if arr[mid]==value:\n",
    "            return mid\n",
    "        \n",
    "        elif arr[mid]>value:\n",
    "            return binaryRecursiveSearch(arr,left,mid-1,value)\n",
    "            \n",
    "        else:\n",
    "            return binaryRecursiveSearch(arr,mid+1,right,value)\n",
    "            \n",
    "    return -1"
   ]
  },
  {
   "cell_type": "code",
   "execution_count": 32,
   "id": "ec112885",
   "metadata": {},
   "outputs": [
    {
     "data": {
      "text/plain": [
       "6"
      ]
     },
     "execution_count": 32,
     "metadata": {},
     "output_type": "execute_result"
    }
   ],
   "source": [
    "binaryRecursiveSearch(arr,0,8,11)"
   ]
  },
  {
   "cell_type": "code",
   "execution_count": null,
   "id": "d7d56cfe",
   "metadata": {},
   "outputs": [],
   "source": []
  }
 ],
 "metadata": {
  "kernelspec": {
   "display_name": "Python 3 (ipykernel)",
   "language": "python",
   "name": "python3"
  },
  "language_info": {
   "codemirror_mode": {
    "name": "ipython",
    "version": 3
   },
   "file_extension": ".py",
   "mimetype": "text/x-python",
   "name": "python",
   "nbconvert_exporter": "python",
   "pygments_lexer": "ipython3",
   "version": "3.9.12"
  }
 },
 "nbformat": 4,
 "nbformat_minor": 5
}
