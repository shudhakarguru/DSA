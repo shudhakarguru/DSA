{
 "cells": [
  {
   "cell_type": "code",
   "execution_count": 27,
   "id": "c97c5712",
   "metadata": {},
   "outputs": [],
   "source": [
    "#Bubble sort\n",
    "def bubbleSort(customList):\n",
    "    for i in range(len(customList)-1):\n",
    "        for j in range(len(customList)-i-1):\n",
    "            if customList[j]>customList[j+1]:\n",
    "                customList[j+1],customList[j]=customList[j],customList[j+1]\n",
    "    return customList\n",
    "\n",
    "# Time comp:O(n2) , Space comp:O(1)"
   ]
  },
  {
   "cell_type": "code",
   "execution_count": 55,
   "id": "0c37c8fe",
   "metadata": {},
   "outputs": [],
   "source": [
    "cl=[1,3,10,7,4,8,11,5]"
   ]
  },
  {
   "cell_type": "code",
   "execution_count": 10,
   "id": "36e78bed",
   "metadata": {},
   "outputs": [
    {
     "data": {
      "text/plain": [
       "[1, 3, 3, 4, 5, 8, 10, 11]"
      ]
     },
     "execution_count": 10,
     "metadata": {},
     "output_type": "execute_result"
    }
   ],
   "source": [
    "bubbleSort(cl)"
   ]
  },
  {
   "cell_type": "code",
   "execution_count": 15,
   "id": "cfdf341a",
   "metadata": {},
   "outputs": [],
   "source": [
    "# SELECTION SORT\n",
    "def selectionSort(customlist):\n",
    "        for i in range(len(customlist)):\n",
    "            min_index = i\n",
    "            for j in range(i+1,len(customlist)):\n",
    "                if customlist[min_index]>customlist[j]:\n",
    "                    min_index=j\n",
    "                customlist[i],customlist[min_index]=customlist[min_index],customlist[i]\n",
    "        return customlist\n",
    "\n",
    "# TIME:O(n2) , Space:O(1)"
   ]
  },
  {
   "cell_type": "code",
   "execution_count": 14,
   "id": "68eced33",
   "metadata": {},
   "outputs": [
    {
     "data": {
      "text/plain": [
       "[1, 3, 3, 5, 4, 8, 10, 11]"
      ]
     },
     "execution_count": 14,
     "metadata": {},
     "output_type": "execute_result"
    }
   ],
   "source": [
    "selectionSort(cl)"
   ]
  },
  {
   "cell_type": "code",
   "execution_count": 22,
   "id": "65d6b5e2",
   "metadata": {},
   "outputs": [],
   "source": [
    "# INSERTION SORT\n",
    "def insertionSort(customList):\n",
    "    for i in range(1,len(customList)):\n",
    "        key = customList[i]\n",
    "        j = i-1\n",
    "        while j>=0 and key<customList[j]:\n",
    "            customList[j+1]=customList[j]\n",
    "            j=j-1\n",
    "        customList[j+1]=key\n",
    "    return customList\n",
    "\n",
    "# TIME:O(n2) , Space:O(1)"
   ]
  },
  {
   "cell_type": "code",
   "execution_count": 23,
   "id": "d6bad87f",
   "metadata": {},
   "outputs": [
    {
     "data": {
      "text/plain": [
       "[1, 3, 3, 4, 5, 8, 10, 11]"
      ]
     },
     "execution_count": 23,
     "metadata": {},
     "output_type": "execute_result"
    }
   ],
   "source": [
    "insertionSort(cl)"
   ]
  },
  {
   "cell_type": "code",
   "execution_count": 24,
   "id": "5b844614",
   "metadata": {},
   "outputs": [],
   "source": [
    "#BUCKET SORT\n",
    "import math\n",
    "def bucketSort(customList):\n",
    "    numberOfBuckets=round(math.sqrt(len(customList)))\n",
    "    maxvalue=max(customList)\n",
    "    arr=[]\n",
    "    \n",
    "    for i in range(numberOfBuckets):\n",
    "        arr.append([])\n",
    "    for j in customList:\n",
    "        index_b= math.ceil(j*numberOfBuckets/maxvalue)\n",
    "        arr[index_b-1].append(j)\n",
    "        \n",
    "    for i in range(numberOfBuckets):\n",
    "        arr[i] = insertionSort(arr[i])\n",
    "    k=0\n",
    "    for i in range(numberOfBuckets):\n",
    "        for j in range(len(arr[i])):\n",
    "            customList[k]=arr[i][j]\n",
    "            k=k+1\n",
    "    return customList\n",
    "\n",
    "# TIME:O(n2) , Space:O(n)"
   ]
  },
  {
   "cell_type": "code",
   "execution_count": 26,
   "id": "5c3dfc39",
   "metadata": {},
   "outputs": [
    {
     "data": {
      "text/plain": [
       "[1, 3, 3, 4, 5, 8, 10, 11]"
      ]
     },
     "execution_count": 26,
     "metadata": {},
     "output_type": "execute_result"
    }
   ],
   "source": [
    "bucketSort(cl)"
   ]
  },
  {
   "cell_type": "code",
   "execution_count": 73,
   "id": "09ea2c92",
   "metadata": {},
   "outputs": [],
   "source": [
    "#MERGE SORT\n",
    "def merge(customList,l,m,r):\n",
    "    n1 = m - l + 1\n",
    "    n2 = r - m\n",
    "    \n",
    "    L = [0]*(n1)\n",
    "    R = [0]*(n2)\n",
    "    \n",
    "    for i in range(n1):\n",
    "        L[i] = customList[l+i]\n",
    "        \n",
    "    for j in range(n2):\n",
    "        R[j] = customList[m+1+j]\n",
    "        \n",
    "    i = 0\n",
    "    j = 0\n",
    "    k = l\n",
    "    \n",
    "    while i < n1 and j < n2:\n",
    "        if L[i] <= R[j]:\n",
    "            customList[k] = L[i]\n",
    "            i += 1\n",
    "        else:\n",
    "            customList[k] = R[j]\n",
    "            j += 1\n",
    "        k += 1\n",
    "        \n",
    "    while j < n2:\n",
    "        customList[k] = R[j]\n",
    "        j += 1\n",
    "        k += 1\n",
    "        \n",
    "    while i < n1:\n",
    "        customList[k]=L[i]\n",
    "        i+=1\n",
    "        k+=1\n",
    "        \n",
    "def mergeSort(customList, l, r):\n",
    "    if l < r:\n",
    "        m = (l+(r-1))//2\n",
    " \n",
    "        # Sort first and second halves\n",
    "        mergeSort(customList, l, m)\n",
    "        mergeSort(customList, m+1, r)\n",
    "        merge(customList, l, m, r)\n",
    "        \n",
    "    return customList\n",
    "\n",
    "#TIME:O(nlogn), SPACE:O(n)"
   ]
  },
  {
   "cell_type": "code",
   "execution_count": 57,
   "id": "7fb5ab92",
   "metadata": {},
   "outputs": [
    {
     "data": {
      "text/plain": [
       "[1, 3, 4, 5, 7, 8, 10, 11]"
      ]
     },
     "execution_count": 57,
     "metadata": {},
     "output_type": "execute_result"
    }
   ],
   "source": [
    "mergeSort(cl,0,7)"
   ]
  },
  {
   "cell_type": "code",
   "execution_count": 70,
   "id": "dc8c9d5f",
   "metadata": {},
   "outputs": [],
   "source": [
    "#2nd way of writing MERGE SORT\n",
    "\n",
    "def mergeSort2(arr):\n",
    "    if len(arr)>1:\n",
    "        \n",
    "        m=len(arr)//2\n",
    "        L=arr[:m]\n",
    "        R=arr[m:]\n",
    "    \n",
    "        mergeSort2(L)\n",
    "        mergeSort2(R)\n",
    "    \n",
    "        i,j,k=0,0,0\n",
    "    \n",
    "    \n",
    "        while i<len(L) and j<len(R):\n",
    "            if L[i]<=R[j]:\n",
    "                arr[k]=L[i]\n",
    "                i+=1\n",
    "            else:\n",
    "                arr[k]=R[j]\n",
    "                j+=1\n",
    "            k+=1\n",
    "        \n",
    "        while i<len(L):\n",
    "            arr[k]=L[i]\n",
    "            i+=1\n",
    "            k+=1\n",
    "        \n",
    "        while j<len(R):\n",
    "            arr[k]=R[j]\n",
    "            j+=1\n",
    "            k+=1\n",
    "    \n",
    "    return arr"
   ]
  },
  {
   "cell_type": "code",
   "execution_count": 75,
   "id": "11aaf156",
   "metadata": {},
   "outputs": [],
   "source": [
    "arr=[1,2,10,5,4,22,11,13]"
   ]
  },
  {
   "cell_type": "code",
   "execution_count": 72,
   "id": "9dba0237",
   "metadata": {},
   "outputs": [
    {
     "data": {
      "text/plain": [
       "[1, 2, 4, 5, 10, 11, 13, 22]"
      ]
     },
     "execution_count": 72,
     "metadata": {},
     "output_type": "execute_result"
    }
   ],
   "source": [
    "mergeSort2(arr)"
   ]
  },
  {
   "cell_type": "code",
   "execution_count": 74,
   "id": "71305cf7",
   "metadata": {},
   "outputs": [],
   "source": [
    "# QUICK SORT\n",
    "def quickSort(arr,start,end):\n",
    "    if start<end:\n",
    "        pivot = partition(arr,start,end)\n",
    "        quickSort(arr,start,pivot-1)\n",
    "        quickSort(arr,pivot+1,end)\n",
    "        \n",
    "    return arr\n",
    "\n",
    "def partition(arr,start,end):\n",
    "    pivot = arr[end]\n",
    "    i = start-1\n",
    "    for j in range(start,end):\n",
    "        if arr[j]<=pivot:\n",
    "            i+=1\n",
    "            arr[i],arr[j]=arr[j],arr[i]\n",
    "    arr[i + 1], arr[end] = arr[end], arr[i + 1]\n",
    "    return i + 1"
   ]
  },
  {
   "cell_type": "code",
   "execution_count": 77,
   "id": "75f623fd",
   "metadata": {},
   "outputs": [
    {
     "data": {
      "text/plain": [
       "[1, 2, 4, 5, 10, 11, 13, 22]"
      ]
     },
     "execution_count": 77,
     "metadata": {},
     "output_type": "execute_result"
    }
   ],
   "source": [
    "quickSort(arr,0,7)"
   ]
  },
  {
   "cell_type": "code",
   "execution_count": null,
   "id": "3ef21b6e",
   "metadata": {},
   "outputs": [],
   "source": []
  }
 ],
 "metadata": {
  "kernelspec": {
   "display_name": "Python 3 (ipykernel)",
   "language": "python",
   "name": "python3"
  },
  "language_info": {
   "codemirror_mode": {
    "name": "ipython",
    "version": 3
   },
   "file_extension": ".py",
   "mimetype": "text/x-python",
   "name": "python",
   "nbconvert_exporter": "python",
   "pygments_lexer": "ipython3",
   "version": "3.9.12"
  }
 },
 "nbformat": 4,
 "nbformat_minor": 5
}
