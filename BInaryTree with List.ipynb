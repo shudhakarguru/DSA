{
 "cells": [
  {
   "cell_type": "code",
   "execution_count": 81,
   "id": "241adce8",
   "metadata": {},
   "outputs": [],
   "source": [
    "class BinaryTree:\n",
    "    def __init__(self,size):\n",
    "        self.customList = size * [None]\n",
    "        self.lastUsedindex = 0\n",
    "        self.maxsize = size\n",
    "        \n",
    "    def insertNode(self,value):\n",
    "        if self.lastUsedindex + 1 == self.maxsize:\n",
    "            return 'BT is Full'\n",
    "        self.customList[self.lastUsedindex+1] = value\n",
    "        self.lastUsedindex+=1\n",
    "        return \"The value is inserted\"\n",
    "    \n",
    "    def searchNode(self, nodeValue):\n",
    "        for i in range(len(self.customList)):\n",
    "            if self.customList[i]==nodeValue:\n",
    "                return \"Success\"\n",
    "            \n",
    "        return 'Not Found'\n",
    "    \n",
    "    def PreorderTraversal(self,index):\n",
    "        if index > self.lastUsedindex:\n",
    "            return\n",
    "        print(self.customList[index])\n",
    "        self.PreorderTraversal(index*2)\n",
    "        self.PreorderTraversal(index*2+1)\n",
    "        \n",
    "    def inorderTraversal(self,index):\n",
    "        if index > self.lastUsedindex:\n",
    "            return\n",
    "        self.inorderTraversal(index*2)\n",
    "        print(self.customList[index])\n",
    "        self.inorderTraversal(index*2+1)\n",
    "        \n",
    "    def postOrderTraversal(self,index):\n",
    "        if index > self.lastUsedindex:\n",
    "            return\n",
    "        self.postOrderTraversal(index*2)\n",
    "        self.postOrderTraversal(index*2+1)\n",
    "        print(self.customList[index])\n",
    "        \n",
    "    def levelorderTraversal(self,index):\n",
    "        for i in range(index,self.lastUsedindex+1):\n",
    "            print(self.customList[i])\n",
    "        \n",
    "    def deleteNode(self,value):\n",
    "        if self.lastUsedindex == 0:\n",
    "            return \"There is not any Node to delete\"\n",
    "        for i in range(1,self.lastUsedindex+1):\n",
    "            if self.customList[i]==value:\n",
    "                self.customList[i]=self.customList[self.lastUsedindex]\n",
    "                self.customList[self.lastUsedindex] = None\n",
    "                self.lastUsedindex-=1\n",
    "                return \"The node has been deleted\"\n",
    "                \n",
    "        \n",
    "        "
   ]
  },
  {
   "cell_type": "code",
   "execution_count": 82,
   "id": "28ef6da3",
   "metadata": {},
   "outputs": [
    {
     "data": {
      "text/plain": [
       "'The value is inserted'"
      ]
     },
     "execution_count": 82,
     "metadata": {},
     "output_type": "execute_result"
    }
   ],
   "source": [
    "newBT = BinaryTree(8)\n",
    "newBT.insertNode(\"Drinks\")\n",
    "newBT.insertNode('Hot')\n",
    "newBT.insertNode('Cold')\n",
    "newBT.insertNode('Tea')\n",
    "newBT.insertNode('Coffee')"
   ]
  },
  {
   "cell_type": "code",
   "execution_count": 83,
   "id": "b98b4733",
   "metadata": {},
   "outputs": [
    {
     "data": {
      "text/plain": [
       "'Not Found'"
      ]
     },
     "execution_count": 83,
     "metadata": {},
     "output_type": "execute_result"
    }
   ],
   "source": [
    "newBT.searchNode('Beer')"
   ]
  },
  {
   "cell_type": "code",
   "execution_count": 84,
   "id": "2d42eb83",
   "metadata": {},
   "outputs": [
    {
     "name": "stdout",
     "output_type": "stream",
     "text": [
      "Drinks\n",
      "Hot\n",
      "Tea\n",
      "Coffee\n",
      "Cold\n"
     ]
    }
   ],
   "source": [
    "newBT.PreorderTraversal(1)"
   ]
  },
  {
   "cell_type": "code",
   "execution_count": 85,
   "id": "b1cd63d7",
   "metadata": {},
   "outputs": [
    {
     "name": "stdout",
     "output_type": "stream",
     "text": [
      "Tea\n",
      "Hot\n",
      "Coffee\n",
      "Drinks\n",
      "Cold\n"
     ]
    }
   ],
   "source": [
    "newBT.inorderTraversal(1)"
   ]
  },
  {
   "cell_type": "code",
   "execution_count": 86,
   "id": "1b34b0cc",
   "metadata": {},
   "outputs": [
    {
     "name": "stdout",
     "output_type": "stream",
     "text": [
      "Tea\n",
      "Coffee\n",
      "Hot\n",
      "Cold\n",
      "Drinks\n"
     ]
    }
   ],
   "source": [
    "newBT.postOrderTraversal(1)"
   ]
  },
  {
   "cell_type": "code",
   "execution_count": 87,
   "id": "bc156282",
   "metadata": {},
   "outputs": [
    {
     "name": "stdout",
     "output_type": "stream",
     "text": [
      "Tea\n",
      "Coffee\n"
     ]
    }
   ],
   "source": [
    "newBT.levelorderTraversal(4)"
   ]
  },
  {
   "cell_type": "code",
   "execution_count": 88,
   "id": "7d5259ca",
   "metadata": {},
   "outputs": [
    {
     "name": "stdout",
     "output_type": "stream",
     "text": [
      "Drinks\n",
      "Hot\n",
      "Coffee\n",
      "Tea\n"
     ]
    }
   ],
   "source": [
    "newBT.deleteNode('Cold')\n",
    "newBT.levelorderTraversal(1)"
   ]
  },
  {
   "cell_type": "code",
   "execution_count": null,
   "id": "c9848ca8",
   "metadata": {},
   "outputs": [],
   "source": []
  }
 ],
 "metadata": {
  "kernelspec": {
   "display_name": "Python 3 (ipykernel)",
   "language": "python",
   "name": "python3"
  },
  "language_info": {
   "codemirror_mode": {
    "name": "ipython",
    "version": 3
   },
   "file_extension": ".py",
   "mimetype": "text/x-python",
   "name": "python",
   "nbconvert_exporter": "python",
   "pygments_lexer": "ipython3",
   "version": "3.9.12"
  }
 },
 "nbformat": 4,
 "nbformat_minor": 5
}
