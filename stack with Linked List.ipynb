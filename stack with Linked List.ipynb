{
 "cells": [
  {
   "cell_type": "code",
   "execution_count": 60,
   "id": "e391f040",
   "metadata": {},
   "outputs": [],
   "source": [
    "class Node:\n",
    "    def __init__(self,data=None):\n",
    "        self.data = data\n",
    "        self.ref = None\n",
    "        \n",
    "class LinkedList:\n",
    "    def __init__(self):\n",
    "        self.head = None\n",
    "\n",
    "class Stack:\n",
    "    def __init__(self):\n",
    "        self.LinkedList = LinkedList()\n",
    "    \n",
    "    def print(self):\n",
    "        n=self.LinkedList.head\n",
    "        while n is not None:\n",
    "            print(n.data)\n",
    "            n=n.ref\n",
    "\n",
    "    def isEmpty(self):\n",
    "        if self.LinkedList.head is None:\n",
    "            return True\n",
    "        else:\n",
    "            return False\n",
    "        \n",
    "    def push(self,value):\n",
    "        node = Node(value)\n",
    "        node.ref = self.LinkedList.head\n",
    "        self.LinkedList.head = node\n",
    "        \n",
    "    def pop(self):\n",
    "        if self.isEmpty():\n",
    "            return 'Stack is empty'\n",
    "        else:\n",
    "            print(self.LinkedList.head.data)\n",
    "            self.LinkedList.head = self.LinkedList.head.ref\n",
    "\n",
    "    def peek(self):\n",
    "        if self.isEmpty():\n",
    "            return 'Stack is empty'\n",
    "        else:\n",
    "            print(self.LinkedList.head.data)\n",
    "        "
   ]
  },
  {
   "cell_type": "code",
   "execution_count": 59,
   "id": "70bf28be",
   "metadata": {},
   "outputs": [
    {
     "name": "stdout",
     "output_type": "stream",
     "text": [
      "5\n",
      "----\n",
      "10\n",
      "20\n"
     ]
    }
   ],
   "source": [
    "cs = Stack()\n",
    "cs.push(20)\n",
    "cs.push(10)\n",
    "cs.push(5)\n",
    "cs.pop()\n",
    "print('----')\n",
    "cs.print()"
   ]
  },
  {
   "cell_type": "code",
   "execution_count": null,
   "id": "31ae9bf3",
   "metadata": {},
   "outputs": [],
   "source": []
  }
 ],
 "metadata": {
  "kernelspec": {
   "display_name": "Python 3 (ipykernel)",
   "language": "python",
   "name": "python3"
  },
  "language_info": {
   "codemirror_mode": {
    "name": "ipython",
    "version": 3
   },
   "file_extension": ".py",
   "mimetype": "text/x-python",
   "name": "python",
   "nbconvert_exporter": "python",
   "pygments_lexer": "ipython3",
   "version": "3.9.12"
  }
 },
 "nbformat": 4,
 "nbformat_minor": 5
}
