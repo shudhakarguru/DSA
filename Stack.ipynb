{
 "cells": [
  {
   "cell_type": "code",
   "execution_count": 36,
   "id": "2e75c9fd",
   "metadata": {},
   "outputs": [],
   "source": [
    "class stack:\n",
    "    def __init__(self):\n",
    "        self.list = []\n",
    "        \n",
    "    def __str__(self):\n",
    "        values = reversed(self.list)\n",
    "        values = [str(x) for x in values]\n",
    "        return '\\n'.join(values)\n",
    "    def isEmpty(self):\n",
    "        if self.list == []:\n",
    "            return True\n",
    "        else:\n",
    "            return False\n",
    "    def push(self,value):\n",
    "        self.list.append(value)\n",
    "        return 'The element is inserted'\n",
    "    \n",
    "    def pop(self):\n",
    "        if self.isEmpty():\n",
    "            return 'there is no element'\n",
    "        else:\n",
    "            return self.list.pop()\n",
    "    def peek(self):\n",
    "        if self.isEmpty():\n",
    "            return 'there is no element'\n",
    "        else:\n",
    "            return self.list[len(self.list)-1]\n",
    "        \n",
    "    def delete(self):\n",
    "        self.list = None\n",
    "        "
   ]
  },
  {
   "cell_type": "code",
   "execution_count": 41,
   "id": "0ed8a7c2",
   "metadata": {},
   "outputs": [],
   "source": [
    "cs = stack()\n",
    "cs.isEmpty()\n",
    "cs.push(7)\n",
    "cs.push(8)\n",
    "cs.push(9)\n",
    "\n",
    "cs.peek()\n",
    "cs.delete()\n",
    "\n"
   ]
  },
  {
   "cell_type": "code",
   "execution_count": 42,
   "id": "99d772a6",
   "metadata": {},
   "outputs": [],
   "source": [
    "#stack with size limit\n",
    "\n",
    "class Stack:\n",
    "    def __init__(self,maxSize):\n",
    "        self.maxSize = maxSize\n",
    "        self.list = []\n",
    "    def __str__(self):\n",
    "        values = reversed(self.list)\n",
    "        values = [str(x) for x in values]\n",
    "        return '\\n'.join(values)\n",
    "    \n",
    "    def isEmpty(self):\n",
    "        if self.list == []:\n",
    "            return True\n",
    "        else:\n",
    "            return False\n",
    "    \n",
    "    def isFull(self):\n",
    "        if len(self.list) == self.maxSize:\n",
    "            return True\n",
    "        else:\n",
    "            return False\n",
    "    \n",
    "    def push(self,value):\n",
    "        if self.isFull():\n",
    "            return 'Stack is full'\n",
    "        else:\n",
    "            self.list.append(value)\n",
    "            return \"The element has been inserted\"\n",
    "        \n",
    "    def pop(self):\n",
    "        if self.isEmpty():\n",
    "            return 'there is no element'\n",
    "        else:\n",
    "            return self.list.pop()\n",
    "        \n",
    "    def peek(self):\n",
    "        if self.isEmpty():\n",
    "            return 'there is no element'\n",
    "        else:\n",
    "            return self.list[len(self.list)-1]\n",
    "        \n",
    "    def delete(self):\n",
    "        self.list = None\n",
    "    \n",
    "    \n",
    "        \n",
    "        \n",
    "        "
   ]
  },
  {
   "cell_type": "code",
   "execution_count": 43,
   "id": "3c6047e5",
   "metadata": {},
   "outputs": [
    {
     "data": {
      "text/plain": [
       "deque([])"
      ]
     },
     "execution_count": 43,
     "metadata": {},
     "output_type": "execute_result"
    }
   ],
   "source": [
    "#Stack using Linked List\n",
    "import collections\n",
    "stack = collections.deque()\n",
    "stack"
   ]
  },
  {
   "cell_type": "code",
   "execution_count": null,
   "id": "71e2085b",
   "metadata": {},
   "outputs": [],
   "source": [
    "#stack of plates\n",
    "\n",
    "class PlateStack:\n",
    "    \n",
    "    def __init__(self,capacity):\n",
    "        self.capacity = capacity\n",
    "        self.stacks = []\n",
    "        \n",
    "    def __str__(self):\n",
    "        return self.stacks\n",
    "    \n",
    "    def push(self,item):\n",
    "        if len(self.stacks)>0 and len(self.stacks[-1])<self.capacity:\n",
    "            self.stacks[-1].append(item)\n",
    "        else:\n",
    "            self.stacks.append(item)\n",
    "            \n",
    "    def pop(self):\n",
    "        \n",
    "    \n",
    "    "
   ]
  }
 ],
 "metadata": {
  "kernelspec": {
   "display_name": "Python 3 (ipykernel)",
   "language": "python",
   "name": "python3"
  },
  "language_info": {
   "codemirror_mode": {
    "name": "ipython",
    "version": 3
   },
   "file_extension": ".py",
   "mimetype": "text/x-python",
   "name": "python",
   "nbconvert_exporter": "python",
   "pygments_lexer": "ipython3",
   "version": "3.9.12"
  }
 },
 "nbformat": 4,
 "nbformat_minor": 5
}
